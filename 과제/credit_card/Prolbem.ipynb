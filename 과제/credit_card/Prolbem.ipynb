{
 "cells": [
  {
   "cell_type": "markdown",
   "metadata": {},
   "source": [
    "# credit-card-approval-prediction 문제\n",
    "\n",
    "- 제작자: 서동옥\n",
    "- 도움을 주신분: 신동원"
   ]
  },
  {
   "cell_type": "markdown",
   "metadata": {},
   "source": [
    "### 문제1: application_recode.csv와 credit_record.csv를 appli과 cred에 데이터프레임으로 할당하세요"
   ]
  },
  {
   "cell_type": "markdown",
   "metadata": {},
   "source": [
    "### 문제2: appli과 cred의 행과 열의 길이를 출력하세요"
   ]
  },
  {
   "cell_type": "markdown",
   "metadata": {},
   "source": [
    "### 문제3: applie과 cred를 id를 기준으로 합쳐서 df라는 하나의 데이터 프레임으로 만드세요\n",
    "\n",
    "STATUS 변경:\n",
    "0: 29\n",
    "1: 59\n",
    "3: 119\n",
    "4: 149\n",
    "5: 200\n",
    "C: 0",
    "X: 0"
   ]
  },
  {
   "cell_type": "markdown",
   "metadata": {},
   "source": [
    "### 문제4: df의 결측치를 확인하고 있다면 해당 열(colume)을 삭제하세요"
   ]
  },
  {
   "cell_type": "markdown",
   "metadata": {},
   "source": [
    "### 문제5: 각 열의 고유한 데이터의 수를 출력하세요."
   ]
  },
  {
   "cell_type": "markdown",
   "metadata": {},
   "source": [
    "### 문제6:ID가 중복 데이터의 수를 확인하고 상위 10개와 하위 10개를 각각 출력하세요"
   ]
  },
  {
   "cell_type": "markdown",
   "metadata": {},
   "source": [
    "### 문제7: 컬럼을 다음과 같이 수정하세요\n",
    "\n",
    "    'CODE_GENDER': 'gender',\n",
    "    'FLAG_OWN_CAR': 'own_car',\n",
    "    'FLAG_OWN_REALTY': 'own_property',\n",
    "    'CNT_CHILDREN': 'children',\n",
    "    'AMT_INCOME_TOTAL': 'income',\n",
    "    'NAME_INCOME_TYPE': 'income_type',\n",
    "    'NAME_EDUCATION_TYPE': 'education',\n",
    "    'NAME_FAMILY_STATUS': 'family_status',\n",
    "    'NAME_HOUSING_TYPE': 'housing_type',\n",
    "    'FLAG_MOBIL': 'mobile',\n",
    "    'FLAG_WORK_PHONE': 'work_phone',\n",
    "    'FLAG_PHONE': 'phone',\n",
    "    'FLAG_EMAIL': 'email',\n",
    "    'CNT_FAM_MEMBERS': 'family_members',\n",
    "    'MONTHS_BALANCE': 'months_balance',\n",
    "    'STATUS' : 'status',\n",
    "    'DAYS_BIRTH' : 'age_in_days',\n",
    "    'DAYS_EMPLOYED' : 'employment_in_days'"
   ]
  },
  {
   "cell_type": "markdown",
   "metadata": {},
   "source": [
    "### 문제8: 컬럼 gender가 female 경우 F, male일 경우 M으로 수정하세요"
   ]
  },
  {
   "cell_type": "markdown",
   "metadata": {},
   "source": [
    "### 문제9: gender가 M일때 own_car가 yes인 경우의 합을 출력하세요"
   ]
  },
  {
   "cell_type": "markdown",
   "metadata": {},
   "source": [
    "### 문제10:housing_type의 그룹별로 income을 100000, 300000를 기준으로 low, medium, hihg로 구분하여 3개의 막대로 그래프로 나타내세요"
   ]
  },
  {
   "cell_type": "markdown",
   "metadata": {},
   "source": [
    "### 문제11: 위 문제에서 분류한 3개의 income그룹의 아이디에 따른 연체기간의 합을 막대 그래프로 나타내세요"
   ]
  },
  {
   "cell_type": "markdown",
   "metadata": {},
   "source": []
  }
 ],
 "metadata": {
  "kernelspec": {
   "display_name": "Python 3 (ipykernel)",
   "language": "python",
   "name": "python3"
  },
  "language_info": {
   "codemirror_mode": {
    "name": "ipython",
    "version": 3
   },
   "file_extension": ".py",
   "mimetype": "text/x-python",
   "name": "python",
   "nbconvert_exporter": "python",
   "pygments_lexer": "ipython3",
   "version": "3.11.9"
  }
 },
 "nbformat": 4,
 "nbformat_minor": 4
}
