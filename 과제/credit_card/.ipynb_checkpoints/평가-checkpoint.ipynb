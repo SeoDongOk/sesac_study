{
 "cells": [
  {
   "cell_type": "markdown",
   "metadata": {},
   "source": [
    "# credit-card-approval-prediction 문제\n",
    "\n",
    "- 제작자: 서동옥\n",
    "- 도움을 주신분: 신동원"
   ]
  },
  {
   "cell_type": "markdown",
   "metadata": {},
   "source": [
    "### 문제1: application_recode.csv와 credit_record.csv를 appli과 cred에 데이터프레임으로 할당하세요\n",
    "## 목적: csv를 불러올수 있는가?"
   ]
  },
  {
   "cell_type": "markdown",
   "metadata": {},
   "source": [
    "### 문제2: appli과 cred의 행과 열의 길이를 출력하세요\n",
    "## 데이터 크기를 파악할 수 있는가?"
   ]
  },
  {
   "cell_type": "markdown",
   "metadata": {},
   "source": [
    "### 문제3: appli의 결측치를 확인하고 있다면 해당 열(colume)을 삭제하세요\n",
    "## 결측치 처리를 할 수 있는가?\n",
    "\n",
    "STATUS 변경:\n",
    "\n",
    "0: 29\n",
    "\n",
    "1: 59\n",
    "\n",
    "2: 89\n",
    "\n",
    "3: 119\n",
    "\n",
    "4: 149\n",
    "\n",
    "5: 200\n",
    "\n",
    "c: 0\n",
    "\n",
    "x: 0"
   ]
  },
  {
   "cell_type": "markdown",
   "metadata": {},
   "source": [
    "### 문제4: applie과 cred를 id를 기준으로 합쳐서 df라는 하나의 데이터 프레임으로 만드세요\n",
    "## Dataframe 조작을 잘하는가?"
   ]
  },
  {
   "cell_type": "markdown",
   "metadata": {},
   "source": [
    "### 문제5: NAME_EDUCATION_TYPE,NAME_FAMILY_STATUS,NAME_HOUSING_TYP 열의 고유한 데이터의 수를 출력하세요.\n",
    "## 특수값을 리스트업 할 수 있는가?"
   ]
  },
  {
   "cell_type": "markdown",
   "metadata": {},
   "source": [
    "### 문제6:ID가 중복 데이터의 수를 확인하고 전체 데이터셋의 상위 10개와 하위 10개를 각각 출력하세요\n",
    "## 중복값 여부를 확인할줄 알고, 처음과 끝의 데이터를 찾을 수 있는가?"
   ]
  },
  {
   "cell_type": "markdown",
   "metadata": {},
   "source": [
    "### 문제7: 컬럼을 다음과 같이 수정하세요\n",
    "## 특정 컬럼을 수정할 수 있는가?\n",
    "\n",
    "    'CODE_GENDER': 'gender',\n",
    "    'FLAG_OWN_CAR': 'own_car',\n",
    "    'FLAG_OWN_REALTY': 'own_property',\n",
    "    'CNT_CHILDREN': 'children',\n",
    "    'AMT_INCOME_TOTAL': 'income',\n",
    "    'NAME_INCOME_TYPE': 'income_type',\n",
    "    'NAME_EDUCATION_TYPE': 'education',\n",
    "    'NAME_FAMILY_STATUS': 'family_status',\n",
    "    'NAME_HOUSING_TYPE': 'housing_type',\n",
    "    'FLAG_MOBIL': 'mobile',\n",
    "    'FLAG_WORK_PHONE': 'work_phone',\n",
    "    'FLAG_PHONE': 'phone',\n",
    "    'FLAG_EMAIL': 'email',\n",
    "    'CNT_FAM_MEMBERS': 'family_members',\n",
    "    'MONTHS_BALANCE': 'months_balance',\n",
    "    'STATUS' : 'status',\n",
    "    'DAYS_BIRTH' : 'age_in_days',\n",
    "    'DAYS_EMPLOYED' : 'employment_in_days'"
   ]
  },
  {
   "cell_type": "markdown",
   "metadata": {},
   "source": [
    "### 문제8: 컬럼 gender가 F인 경우 female, M인 경우 male으로 수정하세요\n",
    "## 특정 행 명을 수정할 수있는가?"
   ]
  },
  {
   "cell_type": "markdown",
   "metadata": {},
   "source": [
    "### 문제9: gender가 male일때 own_car가 Y인 경우의 합을 출력하세요\n",
    "## 그룹 안의 그룹을 찾을 수 있는가?"
   ]
  },
  {
   "cell_type": "markdown",
   "metadata": {},
   "source": [
    "### 문제10:housing_type의 별로 income을 산포도로 나타내고 1000000, 3000000에 기준선을 만드세요.\n",
    "## 데이터 시각화 여부\n",
    "![10번.png](attachment:2e4ff0ba-a724-4949-bc3d-37649ae0f9b9.png)"
   ]
  },
  {
   "cell_type": "markdown",
   "metadata": {},
   "source": []
  },
  {
   "cell_type": "code",
   "execution_count": null,
   "metadata": {},
   "outputs": [],
   "source": [
    "### 문제10:housing_type의 별로 income을 산포도로 나타내고 100000, 300000에 기준선을 만드세요."
   ]
  }
 ],
 "metadata": {
  "kernelspec": {
   "display_name": "Python 3 (ipykernel)",
   "language": "python",
   "name": "python3"
  },
  "language_info": {
   "codemirror_mode": {
    "name": "ipython",
    "version": 3
   },
   "file_extension": ".py",
   "mimetype": "text/x-python",
   "name": "python",
   "nbconvert_exporter": "python",
   "pygments_lexer": "ipython3",
   "version": "3.11.9"
  }
 },
 "nbformat": 4,
 "nbformat_minor": 4
}
