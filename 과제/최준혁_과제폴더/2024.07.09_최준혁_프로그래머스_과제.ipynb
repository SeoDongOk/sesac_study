{
  "nbformat": 4,
  "nbformat_minor": 0,
  "metadata": {
    "colab": {
      "provenance": []
    },
    "kernelspec": {
      "name": "python3",
      "display_name": "Python 3"
    },
    "language_info": {
      "name": "python"
    }
  },
  "cells": [
    {
      "cell_type": "code",
      "execution_count": 1,
      "metadata": {
        "id": "x7GLXt-zBjcu"
      },
      "outputs": [],
      "source": [
        "def solution(babbling):\n",
        "    valid_sounds = [\"aya\", \"ye\", \"woo\", \"ma\"]\n",
        "    count = 0\n",
        "\n",
        "    for word in babbling:\n",
        "        for sound in valid_sounds:\n",
        "            word = word.replace(sound, ' ', 1)\n",
        "        word = word.replace(' ', '')\n",
        "        if word == '':\n",
        "            count += 1\n",
        "\n",
        "    return count"
      ]
    },
    {
      "cell_type": "code",
      "source": [
        "print(solution([\"aya\", \"yee\", \"u\", \"maa\", \"wyeoo\"]))  # 1\n",
        "print(solution([\"ayaye\", \"uuuma\", \"ye\", \"yemawoo\", \"ayaa\"]))  # 3\n",
        "print(solution([\"wooma\", \"ye\", \"wooaya\", \"maaya\", \"ywoo\"]))  # 4\n",
        "print(solution([\"oh\", \"wooay\", \"wow\", \"mua\"]))  # 0"
      ],
      "metadata": {
        "colab": {
          "base_uri": "https://localhost:8080/"
        },
        "id": "213buV7wCCs3",
        "outputId": "927064c9-83cb-479e-d5ec-c02a66278a55"
      },
      "execution_count": 11,
      "outputs": [
        {
          "output_type": "stream",
          "name": "stdout",
          "text": [
            "1\n",
            "3\n",
            "4\n",
            "0\n"
          ]
        }
      ]
    }
  ]
}